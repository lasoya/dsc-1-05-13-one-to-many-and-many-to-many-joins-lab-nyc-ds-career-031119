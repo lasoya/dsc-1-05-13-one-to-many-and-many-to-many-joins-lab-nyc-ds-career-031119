{
 "cells": [
  {
   "cell_type": "markdown",
   "metadata": {},
   "source": [
    "# One-to-Many and Many-to-Many Joins - Lab"
   ]
  },
  {
   "cell_type": "markdown",
   "metadata": {},
   "source": [
    "## Introduction"
   ]
  },
  {
   "cell_type": "markdown",
   "metadata": {},
   "source": [
    "In this lab, you'll practice your knowledge on One-to-Many and Many-to-many relationships!"
   ]
  },
  {
   "cell_type": "markdown",
   "metadata": {},
   "source": [
    "## Objectives"
   ]
  },
  {
   "cell_type": "markdown",
   "metadata": {},
   "source": [
    "You will be able to:\n",
    "- Query data including Many-to-Many relationships\n",
    "- Write queries that make use of Join Tables"
   ]
  },
  {
   "cell_type": "markdown",
   "metadata": {},
   "source": [
    "## One-to-Many and Many-to-Many Joins\n",
    "<img src='Database-Schema.png' width=550>"
   ]
  },
  {
   "cell_type": "code",
   "execution_count": 12,
   "metadata": {},
   "outputs": [],
   "source": [
    "import pandas as pd\n",
    "import sqlite3\n",
    "conn = sqlite3.connect('data.sqlite')\n",
    "cur = conn.cursor()"
   ]
  },
  {
   "cell_type": "markdown",
   "metadata": {},
   "source": [
    "## Employees and their Office (a One-to-One join)\n",
    "\n",
    "Return a list of all of the employees with their first name, last name and the city and state of the office that they work out of (if they have one). Include all employees and order them by their first name, then their last name."
   ]
  },
  {
   "cell_type": "code",
   "execution_count": 5,
   "metadata": {},
   "outputs": [
    {
     "data": {
      "text/plain": [
       "[('Andy', 'Fixter', 'Sydney', ''),\n",
       " ('Anthony', 'Bow', 'San Francisco', 'CA'),\n",
       " ('Barry', 'Jones', 'London', ''),\n",
       " ('Diane', 'Murphy', 'San Francisco', 'CA'),\n",
       " ('Foon Yue', 'Tseng', 'NYC', 'NY'),\n",
       " ('George', 'Vanauf', 'NYC', 'NY'),\n",
       " ('Gerard', 'Bondur', 'Paris', ''),\n",
       " ('Gerard', 'Hernandez', 'Paris', ''),\n",
       " ('Jeff', 'Firrelli', 'San Francisco', 'CA'),\n",
       " ('Julie', 'Firrelli', 'Boston', 'MA'),\n",
       " ('Larry', 'Bott', 'London', ''),\n",
       " ('Leslie', 'Jennings', 'San Francisco', 'CA'),\n",
       " ('Leslie', 'Thompson', 'San Francisco', 'CA'),\n",
       " ('Loui', 'Bondur', 'Paris', ''),\n",
       " ('Mami', 'Nishi', 'Tokyo', 'Chiyoda-Ku'),\n",
       " ('Martin', 'Gerard', 'Paris', ''),\n",
       " ('Mary', 'Patterson', 'San Francisco', 'CA'),\n",
       " ('Pamela', 'Castillo', 'Paris', ''),\n",
       " ('Peter', 'Marsh', 'Sydney', ''),\n",
       " ('Steve', 'Patterson', 'Boston', 'MA'),\n",
       " ('Tom', 'King', 'Sydney', ''),\n",
       " ('William', 'Patterson', 'Sydney', ''),\n",
       " ('Yoshimi', 'Kato', 'Tokyo', 'Chiyoda-Ku')]"
      ]
     },
     "execution_count": 5,
     "metadata": {},
     "output_type": "execute_result"
    }
   ],
   "source": [
    "#Your code here\n",
    "cur.execute(\"\"\"\n",
    "    SELECT employees.firstName, employees.lastName, offices.city, offices.state FROM employees \n",
    "    JOIN offices USING (officeCode) \n",
    "    ORDER BY employees.firstName;\n",
    "    \"\"\").fetchall()"
   ]
  },
  {
   "cell_type": "markdown",
   "metadata": {},
   "source": [
    "## Customers and their Orders (a One-to-Many join)\n",
    "\n",
    "Return a list of all of the customers. For each customer return a record for each of their order numbers, order dates and statuses."
   ]
  },
  {
   "cell_type": "code",
   "execution_count": 13,
   "metadata": {},
   "outputs": [
    {
     "data": {
      "text/html": [
       "<div>\n",
       "<style scoped>\n",
       "    .dataframe tbody tr th:only-of-type {\n",
       "        vertical-align: middle;\n",
       "    }\n",
       "\n",
       "    .dataframe tbody tr th {\n",
       "        vertical-align: top;\n",
       "    }\n",
       "\n",
       "    .dataframe thead th {\n",
       "        text-align: right;\n",
       "    }\n",
       "</style>\n",
       "<table border=\"1\" class=\"dataframe\">\n",
       "  <thead>\n",
       "    <tr style=\"text-align: right;\">\n",
       "      <th></th>\n",
       "      <th>0</th>\n",
       "      <th>1</th>\n",
       "      <th>2</th>\n",
       "      <th>3</th>\n",
       "      <th>4</th>\n",
       "      <th>5</th>\n",
       "      <th>6</th>\n",
       "      <th>7</th>\n",
       "      <th>8</th>\n",
       "      <th>9</th>\n",
       "      <th>...</th>\n",
       "      <th>12</th>\n",
       "      <th>13</th>\n",
       "      <th>14</th>\n",
       "      <th>15</th>\n",
       "      <th>16</th>\n",
       "      <th>17</th>\n",
       "      <th>18</th>\n",
       "      <th>19</th>\n",
       "      <th>20</th>\n",
       "      <th>21</th>\n",
       "    </tr>\n",
       "  </thead>\n",
       "  <tbody>\n",
       "    <tr>\n",
       "      <th>0</th>\n",
       "      <td>103</td>\n",
       "      <td>Atelier graphique</td>\n",
       "      <td>Schmitt</td>\n",
       "      <td>Carine</td>\n",
       "      <td>40.32.2555</td>\n",
       "      <td>54, rue Royale</td>\n",
       "      <td></td>\n",
       "      <td>Nantes</td>\n",
       "      <td></td>\n",
       "      <td>44000</td>\n",
       "      <td>...</td>\n",
       "      <td>21000.00</td>\n",
       "      <td>10123</td>\n",
       "      <td>2003-05-20</td>\n",
       "      <td>2003-05-29</td>\n",
       "      <td>2003-05-22</td>\n",
       "      <td>Shipped</td>\n",
       "      <td></td>\n",
       "      <td>10123</td>\n",
       "      <td>2003-05-20</td>\n",
       "      <td>Shipped</td>\n",
       "    </tr>\n",
       "    <tr>\n",
       "      <th>1</th>\n",
       "      <td>103</td>\n",
       "      <td>Atelier graphique</td>\n",
       "      <td>Schmitt</td>\n",
       "      <td>Carine</td>\n",
       "      <td>40.32.2555</td>\n",
       "      <td>54, rue Royale</td>\n",
       "      <td></td>\n",
       "      <td>Nantes</td>\n",
       "      <td></td>\n",
       "      <td>44000</td>\n",
       "      <td>...</td>\n",
       "      <td>21000.00</td>\n",
       "      <td>10298</td>\n",
       "      <td>2004-09-27</td>\n",
       "      <td>2004-10-05</td>\n",
       "      <td>2004-10-01</td>\n",
       "      <td>Shipped</td>\n",
       "      <td></td>\n",
       "      <td>10298</td>\n",
       "      <td>2004-09-27</td>\n",
       "      <td>Shipped</td>\n",
       "    </tr>\n",
       "    <tr>\n",
       "      <th>2</th>\n",
       "      <td>103</td>\n",
       "      <td>Atelier graphique</td>\n",
       "      <td>Schmitt</td>\n",
       "      <td>Carine</td>\n",
       "      <td>40.32.2555</td>\n",
       "      <td>54, rue Royale</td>\n",
       "      <td></td>\n",
       "      <td>Nantes</td>\n",
       "      <td></td>\n",
       "      <td>44000</td>\n",
       "      <td>...</td>\n",
       "      <td>21000.00</td>\n",
       "      <td>10345</td>\n",
       "      <td>2004-11-25</td>\n",
       "      <td>2004-12-01</td>\n",
       "      <td>2004-11-26</td>\n",
       "      <td>Shipped</td>\n",
       "      <td></td>\n",
       "      <td>10345</td>\n",
       "      <td>2004-11-25</td>\n",
       "      <td>Shipped</td>\n",
       "    </tr>\n",
       "    <tr>\n",
       "      <th>3</th>\n",
       "      <td>112</td>\n",
       "      <td>Signal Gift Stores</td>\n",
       "      <td>King</td>\n",
       "      <td>Jean</td>\n",
       "      <td>7025551838</td>\n",
       "      <td>8489 Strong St.</td>\n",
       "      <td></td>\n",
       "      <td>Las Vegas</td>\n",
       "      <td>NV</td>\n",
       "      <td>83030</td>\n",
       "      <td>...</td>\n",
       "      <td>71800.00</td>\n",
       "      <td>10124</td>\n",
       "      <td>2003-05-21</td>\n",
       "      <td>2003-05-29</td>\n",
       "      <td>2003-05-25</td>\n",
       "      <td>Shipped</td>\n",
       "      <td>Customer very concerned about the exact color ...</td>\n",
       "      <td>10124</td>\n",
       "      <td>2003-05-21</td>\n",
       "      <td>Shipped</td>\n",
       "    </tr>\n",
       "    <tr>\n",
       "      <th>4</th>\n",
       "      <td>112</td>\n",
       "      <td>Signal Gift Stores</td>\n",
       "      <td>King</td>\n",
       "      <td>Jean</td>\n",
       "      <td>7025551838</td>\n",
       "      <td>8489 Strong St.</td>\n",
       "      <td></td>\n",
       "      <td>Las Vegas</td>\n",
       "      <td>NV</td>\n",
       "      <td>83030</td>\n",
       "      <td>...</td>\n",
       "      <td>71800.00</td>\n",
       "      <td>10278</td>\n",
       "      <td>2004-08-06</td>\n",
       "      <td>2004-08-16</td>\n",
       "      <td>2004-08-09</td>\n",
       "      <td>Shipped</td>\n",
       "      <td></td>\n",
       "      <td>10278</td>\n",
       "      <td>2004-08-06</td>\n",
       "      <td>Shipped</td>\n",
       "    </tr>\n",
       "  </tbody>\n",
       "</table>\n",
       "<p>5 rows × 22 columns</p>\n",
       "</div>"
      ],
      "text/plain": [
       "    0                   1        2        3           4                5  6   \\\n",
       "0  103   Atelier graphique  Schmitt  Carine   40.32.2555   54, rue Royale      \n",
       "1  103   Atelier graphique  Schmitt  Carine   40.32.2555   54, rue Royale      \n",
       "2  103   Atelier graphique  Schmitt  Carine   40.32.2555   54, rue Royale      \n",
       "3  112  Signal Gift Stores     King     Jean  7025551838  8489 Strong St.      \n",
       "4  112  Signal Gift Stores     King     Jean  7025551838  8489 Strong St.      \n",
       "\n",
       "          7   8      9    ...           12     13          14          15  \\\n",
       "0     Nantes      44000   ...     21000.00  10123  2003-05-20  2003-05-29   \n",
       "1     Nantes      44000   ...     21000.00  10298  2004-09-27  2004-10-05   \n",
       "2     Nantes      44000   ...     21000.00  10345  2004-11-25  2004-12-01   \n",
       "3  Las Vegas  NV  83030   ...     71800.00  10124  2003-05-21  2003-05-29   \n",
       "4  Las Vegas  NV  83030   ...     71800.00  10278  2004-08-06  2004-08-16   \n",
       "\n",
       "           16       17                                                 18  \\\n",
       "0  2003-05-22  Shipped                                                      \n",
       "1  2004-10-01  Shipped                                                      \n",
       "2  2004-11-26  Shipped                                                      \n",
       "3  2003-05-25  Shipped  Customer very concerned about the exact color ...   \n",
       "4  2004-08-09  Shipped                                                      \n",
       "\n",
       "      19          20       21  \n",
       "0  10123  2003-05-20  Shipped  \n",
       "1  10298  2004-09-27  Shipped  \n",
       "2  10345  2004-11-25  Shipped  \n",
       "3  10124  2003-05-21  Shipped  \n",
       "4  10278  2004-08-06  Shipped  \n",
       "\n",
       "[5 rows x 22 columns]"
      ]
     },
     "execution_count": 13,
     "metadata": {},
     "output_type": "execute_result"
    }
   ],
   "source": [
    "# Your code here\n",
    "query = cur.execute(\"\"\"\n",
    "    SELECT *, orders.orderNumber, orders.orderDate, orders.status FROM customers\n",
    "    JOIN orders USING (customerNumber);\n",
    "    \"\"\").fetchall()\n",
    "df = pd.DataFrame(query)\n",
    "df.columns = [i[0] for i in range(len(df))]\n",
    "df.head()"
   ]
  },
  {
   "cell_type": "markdown",
   "metadata": {},
   "source": [
    "## Orders and their Order Details (another One-to-Many join)\n",
    "\n",
    "Return a list of orders. For each order return a record for each order detail within the order."
   ]
  },
  {
   "cell_type": "code",
   "execution_count": 3,
   "metadata": {},
   "outputs": [],
   "source": [
    "# Your code here"
   ]
  },
  {
   "cell_type": "markdown",
   "metadata": {},
   "source": [
    "## Orders, Order details and Product Details (a Many-to-Many Join)"
   ]
  },
  {
   "cell_type": "markdown",
   "metadata": {},
   "source": [
    "Return a list of the orders with the the order information, and all the product information for each product in the order. "
   ]
  },
  {
   "cell_type": "code",
   "execution_count": 4,
   "metadata": {},
   "outputs": [],
   "source": [
    "# Your code here"
   ]
  },
  {
   "cell_type": "markdown",
   "metadata": {},
   "source": [
    "## Summary"
   ]
  },
  {
   "cell_type": "markdown",
   "metadata": {},
   "source": [
    "In this lab, you practiced your knowledge on One-to-Many and Many-to-many relationships!"
   ]
  }
 ],
 "metadata": {
  "kernelspec": {
   "display_name": "Python 3",
   "language": "python",
   "name": "python3"
  },
  "language_info": {
   "codemirror_mode": {
    "name": "ipython",
    "version": 3
   },
   "file_extension": ".py",
   "mimetype": "text/x-python",
   "name": "python",
   "nbconvert_exporter": "python",
   "pygments_lexer": "ipython3",
   "version": "3.6.6"
  }
 },
 "nbformat": 4,
 "nbformat_minor": 2
}
